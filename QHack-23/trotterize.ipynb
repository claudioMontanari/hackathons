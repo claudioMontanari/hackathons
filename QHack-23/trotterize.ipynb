{
 "cells": [
  {
   "cell_type": "code",
   "execution_count": 17,
   "id": "18acd01e-99c9-414a-938e-acdea1ac1f45",
   "metadata": {},
   "outputs": [],
   "source": [
    "import json\n",
    "import pennylane as qml\n",
    "import pennylane.numpy as np"
   ]
  },
  {
   "cell_type": "code",
   "execution_count": 38,
   "id": "422c9979-57a4-4094-9ce1-8787a399e02c",
   "metadata": {},
   "outputs": [],
   "source": [
    "dev = qml.device('default.qubit', wires = 2)\n",
    "\n",
    "@qml.qnode(dev)\n",
    "def trotterize(alpha, beta, time, depth):\n",
    "    \"\"\"This quantum circuit implements the Trotterization of a Hamiltonian given by a linear combination\n",
    "    of tensor products of X and Z Pauli gates.\n",
    "\n",
    "    Args:\n",
    "        alpha (float): The coefficient of the XX term in the Hamiltonian, as in the statement of the problem.\n",
    "        beta (float): The coefficient of the YY term in the Hamiltonian, as in the statement of the problem.\n",
    "        time (float): Time interval during which the quantum state evolves under the interactions specified by the Hamiltonian.\n",
    "        depth (int): The Trotterization depth.\n",
    "\n",
    "    Returns:\n",
    "        (numpy.array): The probabilities of each measuring each computational basis state.\n",
    "    \"\"\"\n",
    "    for n_i in range(depth):\n",
    "        qml.IsingXX(phi=2. * alpha * time / depth, wires=[0,1])\n",
    "        qml.IsingZZ(phi=2. * beta * time / depth, wires=[0,1])\n",
    "    \n",
    "    return qml.probs(wires=range(2))\n"
   ]
  },
  {
   "cell_type": "code",
   "execution_count": 23,
   "id": "8ce390bf-153c-404b-8180-0fef87d2912b",
   "metadata": {},
   "outputs": [
    {
     "data": {
      "text/plain": [
       "Type help() for interactive help, or help(object) for help about object."
      ]
     },
     "execution_count": 23,
     "metadata": {},
     "output_type": "execute_result"
    }
   ],
   "source": [
    "help"
   ]
  },
  {
   "cell_type": "code",
   "execution_count": 30,
   "id": "ddcf80be-541a-40af-9863-7e1823833d56",
   "metadata": {},
   "outputs": [],
   "source": [
    "# These functions are responsible for testing the solution.\n",
    "def run(test_case_input: str) -> str:\n",
    "    dev = qml.device(\"default.qubit\", wires=2)\n",
    "    ins = json.loads(test_case_input)\n",
    "    output = list(trotterize(*ins).numpy())\n",
    "\n",
    "    return str(output)\n",
    "\n",
    "def check(solution_output: str, expected_output: str) -> None:\n",
    "    solution_output = json.loads(solution_output)\n",
    "    expected_output = json.loads(expected_output)\n",
    "    assert np.allclose(\n",
    "        solution_output, expected_output, rtol=1e-4\n",
    "    ), \"Your circuit does not give the correct probabilities.\"\n",
    "\n",
    "    tape = trotterize.qtape\n",
    "\n",
    "    names = [op.name for op in tape.operations]\n",
    "    \n",
    "    assert names.count('ApproxTimeEvolution') == 0, \"Your circuit is using the built-in PennyLane Trotterization\"\n",
    "    assert names.count('QubitUnitary') == 0, \"Can't use custom-built gates!\"\n"
   ]
  },
  {
   "cell_type": "code",
   "execution_count": 31,
   "id": "2b29cf30-d698-4e65-9977-09e61e9da4c3",
   "metadata": {},
   "outputs": [],
   "source": [
    "test_cases = [['[0.5,0.8,0.2,1]', '[0.99003329, 0, 0, 0.00996671]'], ['[0.9,1.0,0.4,2]', '[0.87590286, 0, 0, 0.12409714]']]"
   ]
  },
  {
   "cell_type": "code",
   "execution_count": 39,
   "id": "2388226d-5e82-4fdc-873d-90793093bb1e",
   "metadata": {},
   "outputs": [
    {
     "name": "stdout",
     "output_type": "stream",
     "text": [
      "Running test case 0 with input '[0.5,0.8,0.2,1]'...\n",
      "Correct!\n",
      "Running test case 1 with input '[0.9,1.0,0.4,2]'...\n",
      "Correct!\n"
     ]
    }
   ],
   "source": [
    "for i, (input_, expected_output) in enumerate(test_cases):\n",
    "    print(f\"Running test case {i} with input '{input_}'...\")\n",
    "\n",
    "    try:\n",
    "        output = run(input_)\n",
    "\n",
    "    except Exception as exc:\n",
    "        print(f\"Runtime Error. {exc}\")\n",
    "\n",
    "    else:\n",
    "        if message := check(output, expected_output):\n",
    "            print(f\"Wrong Answer. Have: '{output}'. Want: '{expected_output}'.\")\n",
    "\n",
    "        else:\n",
    "            print(\"Correct!\")"
   ]
  },
  {
   "cell_type": "code",
   "execution_count": null,
   "id": "32e14818-56f8-4295-bc63-bdf87f917b32",
   "metadata": {},
   "outputs": [],
   "source": []
  }
 ],
 "metadata": {
  "kernelspec": {
   "display_name": "PennyLane",
   "language": "python",
   "name": "pennylane"
  },
  "language_info": {
   "codemirror_mode": {
    "name": "ipython",
    "version": 3
   },
   "file_extension": ".py",
   "mimetype": "text/x-python",
   "name": "python",
   "nbconvert_exporter": "python",
   "pygments_lexer": "ipython3",
   "version": "3.9.15"
  }
 },
 "nbformat": 4,
 "nbformat_minor": 5
}
