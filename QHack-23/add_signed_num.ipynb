{
 "cells": [
  {
   "cell_type": "code",
   "execution_count": 1,
   "id": "63091025-b5db-4173-83c7-a0acbed62189",
   "metadata": {},
   "outputs": [],
   "source": [
    "import json\n",
    "import pennylane as qml\n",
    "import pennylane.numpy as np"
   ]
  },
  {
   "cell_type": "code",
   "execution_count": 52,
   "id": "129661d1-e8f8-4b01-8580-aa1b6555bc80",
   "metadata": {},
   "outputs": [],
   "source": [
    "# Welcome to the QHack 2023 coding challenges!\n",
    "def add_numbers(x, y):\n",
    "    \"\"\"This function adds two numbers together.\n",
    "\n",
    "    Args:\n",
    "        x (float): A number.\n",
    "        y (float): A number.\n",
    "\n",
    "    Returns:\n",
    "        (float): The result of adding x and y.\n",
    "    \"\"\"\n",
    "    \n",
    "    dev = qml.device('default.qubit', wires=4, shots=1)\n",
    "    \n",
    "    @qml.qnode(dev)\n",
    "    def one_bit_adder(x_val, y_val, c_in_val=0, c_out_val=0):\n",
    "        x, y, c_in_sum_out, c_out = 0, 1, 2, 3\n",
    "        if x_val: qml.PauliX(x)\n",
    "        if y_val: qml.PauliX(y)\n",
    "        if c_in_val: qml.PauliX(c_in_sum_out)\n",
    "        if c_out_val: qml.PauliX(c_out)\n",
    "        \n",
    "        # Implement adder circ\n",
    "        qml.Toffoli(wires=[x, y, c_out])\n",
    "        qml.CNOT(wires=[x, y])\n",
    "        qml.Toffoli(wires=[y, c_in_sum_out, c_out])\n",
    "        qml.CNOT(wires=[y, c_in_sum_out])\n",
    "        qml.CNOT(wires=[x, y])\n",
    "        \n",
    "        return qml.sample()\n",
    "    \n",
    "    def twos_comp(val, bits):\n",
    "        if (val & (1 << (bits - 1))) != 0:\n",
    "            val = val - (1 << bits)\n",
    "        return val\n",
    "\n",
    "    # Encode in binary format x and y with error\n",
    "    error = 1000\n",
    "    x_trunc = int(x * error)\n",
    "    y_trunc = int(y * error)\n",
    "\n",
    "    num_bits = max(len(str(bin(n))) for n in [x_trunc, y_trunc]) - 2\n",
    "    x_two_cmp = twos_comp(x_trunc, num_bits)\n",
    "    y_two_cmp = twos_comp(y_trunc, num_bits)\n",
    "\n",
    "    x_bits = [(x_two_cmp >> bit) & 1 for bit in range(num_bits - 1, -1, -1)]\n",
    "    y_bits = [(y_two_cmp >> bit) & 1 for bit in range(num_bits - 1, -1, -1)]\n",
    "    \n",
    "    c_in_sum_out = 0\n",
    "    c_out = 0\n",
    "    result = ''\n",
    "    for x_i, y_i in zip(x_bits[::-1], y_bits[::-1]):\n",
    "        _, _, c_in_sum_out, c_out = one_bit_adder(x_i, y_i, c_in_sum_out, c_out)\n",
    "        result += str(c_in_sum_out)\n",
    "        c_in_sum_out = int(c_out)\n",
    "        c_out = 0\n",
    "    # Add carry from last bit sum\n",
    "    if x > 0 and y > 0:\n",
    "        result += str(c_in_sum_out)\n",
    "    \n",
    "    # Decode from binary back to float\n",
    "    return int(result[::-1], base=2) / error\n"
   ]
  },
  {
   "cell_type": "code",
   "execution_count": 53,
   "id": "c1528d6d-9f09-432f-afd4-80f7474b06e6",
   "metadata": {},
   "outputs": [],
   "source": [
    "# These functions are responsible for testing the solution.\n",
    "\n",
    "def run(test_case_input: str) -> str:\n",
    "    x, y = json.loads(test_case_input)\n",
    "    result = add_numbers(x, y)\n",
    "    return str(result)\n",
    "\n",
    "def check(solution_output: str, expected_output: str) -> None:\n",
    "    solution_output = json.loads(solution_output)\n",
    "    expected_output = json.loads(expected_output)\n",
    "    assert np.allclose(\n",
    "        solution_output, expected_output, rtol=1e-4\n",
    "    ), \"Your addition function isn't quite right!\"\n"
   ]
  },
  {
   "cell_type": "code",
   "execution_count": 54,
   "id": "653d031c-2701-4dac-a57b-ddc4f3503ab2",
   "metadata": {},
   "outputs": [],
   "source": [
    "test_cases = [['[0.2, -0.2]', '0.0']]"
   ]
  },
  {
   "cell_type": "code",
   "execution_count": 55,
   "id": "f62fdcf3-3931-4dcf-b546-2e6681dc5e28",
   "metadata": {},
   "outputs": [
    {
     "name": "stdout",
     "output_type": "stream",
     "text": [
      "Running test case 0 with input '[0.2, -0.2]'...\n",
      "Correct!\n"
     ]
    }
   ],
   "source": [
    "for i, (input_, expected_output) in enumerate(test_cases):\n",
    "    print(f\"Running test case {i} with input '{input_}'...\")\n",
    "\n",
    "    try:\n",
    "        output = run(input_)\n",
    "\n",
    "    except Exception as exc:\n",
    "        print(f\"Runtime Error. {exc}\")\n",
    "\n",
    "    else:\n",
    "        if message := check(output, expected_output):\n",
    "            print(f\"Wrong Answer. Have: '{output}'. Want: '{expected_output}'.\")\n",
    "\n",
    "        else:\n",
    "            print(\"Correct!\")"
   ]
  },
  {
   "cell_type": "code",
   "execution_count": null,
   "id": "ed19497c-1731-41dd-9946-fb84728a1eab",
   "metadata": {},
   "outputs": [],
   "source": []
  }
 ],
 "metadata": {
  "kernelspec": {
   "display_name": "PennyLane",
   "language": "python",
   "name": "pennylane"
  },
  "language_info": {
   "codemirror_mode": {
    "name": "ipython",
    "version": 3
   },
   "file_extension": ".py",
   "mimetype": "text/x-python",
   "name": "python",
   "nbconvert_exporter": "python",
   "pygments_lexer": "ipython3",
   "version": "3.9.15"
  }
 },
 "nbformat": 4,
 "nbformat_minor": 5
}
