{
 "cells": [
  {
   "cell_type": "code",
   "execution_count": 2,
   "id": "3daacc0b-7a10-47ef-89d1-7e31e59fcffd",
   "metadata": {},
   "outputs": [],
   "source": [
    "import json\n",
    "import pennylane as qml\n",
    "import pennylane.numpy as np"
   ]
  },
  {
   "cell_type": "code",
   "execution_count": 26,
   "id": "815bfb72-47b1-47da-8b3b-de4417247e98",
   "metadata": {},
   "outputs": [],
   "source": [
    "def hamiltonian(num_wires):\n",
    "    \"\"\"A function for creating the Hamiltonian in question for a general\n",
    "    number of qubits.\n",
    "\n",
    "    Args:\n",
    "        num_wires (int): The number of qubits.\n",
    "\n",
    "    Returns:\n",
    "        (qml.Hamiltonian): A PennyLane Hamiltonian.\n",
    "    \"\"\"\n",
    "    x_pairs_prod = [qml.PauliX(i) @ qml.PauliX(j) for i in range(num_wires) for j in range(num_wires) if i < j]\n",
    "    x_pairs_coeff = [1. / 3.] * len(x_pairs_prod)\n",
    "\n",
    "    z_prod = [qml.PauliZ(i) for i in range(num_wires)]\n",
    "    z_coeff = [-1.] * len(z_prod)\n",
    "    return qml.Hamiltonian(x_pairs_coeff + z_coeff, x_pairs_prod + z_prod)\n"
   ]
  },
  {
   "cell_type": "code",
   "execution_count": 25,
   "id": "34b1a2f5-b09c-406b-9b3c-847a80bda650",
   "metadata": {},
   "outputs": [
    {
     "data": {
      "text/plain": [
       "[(0, 1), (0, 2), (1, 2)]"
      ]
     },
     "execution_count": 25,
     "metadata": {},
     "output_type": "execute_result"
    }
   ],
   "source": [
    "num_wires = 3\n",
    "[(i, j) for i in range(num_wires) for j in range(num_wires) if i < j]"
   ]
  },
  {
   "cell_type": "code",
   "execution_count": 1,
   "id": "8a074cb6-9ae9-45c8-9583-6dfb05dc16bc",
   "metadata": {},
   "outputs": [],
   "source": [
    "def expectation_value(num_wires):\n",
    "    \"\"\"Simulates the circuit in question and returns the expectation value of the \n",
    "    Hamiltonian in question.\n",
    "\n",
    "    Args:\n",
    "        num_wires (int): The number of qubits.\n",
    "\n",
    "    Returns:\n",
    "        (float): The expectation value of the Hamiltonian.\n",
    "    \"\"\"\n",
    "    # Put your solution here #\n",
    "\n",
    "    # Define a device using qml.device\n",
    "    dev = qml.device(\"default.qubit\", wires=num_wires)\n",
    "\n",
    "    @qml.qnode(dev)\n",
    "    def circuit(num_wires):\n",
    "        \"\"\"A quantum circuit with Hadamard gates on every qubit and that measures\n",
    "        the expectation value of the Hamiltonian in question. \n",
    "        \"\"\"\n",
    "        # Put Hadamard gates here #\n",
    "        for w in range(num_wires):\n",
    "            qml.Hadamard(w)\n",
    "\n",
    "        # Then return the expectation value of the Hamiltonian using qml.expval\n",
    "        return qml.expval(hamiltonian(num_wires))\n",
    "\n",
    "        \n",
    "    return circuit(num_wires)\n"
   ]
  },
  {
   "cell_type": "code",
   "execution_count": 28,
   "id": "5fb9e777-43c5-4719-8da7-0ef6fc835de5",
   "metadata": {},
   "outputs": [],
   "source": [
    "# These functions are responsible for testing the solution.\n",
    "def run(test_case_input: str) -> str:\n",
    "    num_wires = json.loads(test_case_input)\n",
    "    output = expectation_value(num_wires)\n",
    "\n",
    "    return str(output)\n",
    "\n",
    "def check(solution_output: str, expected_output: str) -> None:\n",
    "    solution_output = json.loads(solution_output)\n",
    "    expected_output = json.loads(expected_output)\n",
    "    assert np.allclose(solution_output, expected_output, rtol=1e-4)\n"
   ]
  },
  {
   "cell_type": "code",
   "execution_count": 29,
   "id": "cc999970-cea7-48bd-ab77-c7ea10bab616",
   "metadata": {},
   "outputs": [],
   "source": [
    "test_cases = [['8', '9.33333']]"
   ]
  },
  {
   "cell_type": "code",
   "execution_count": 30,
   "id": "3dfffe83-e8a8-49ce-acc0-29e8a71687aa",
   "metadata": {},
   "outputs": [
    {
     "name": "stdout",
     "output_type": "stream",
     "text": [
      "Running test case 0 with input '8'...\n",
      "Correct!\n"
     ]
    }
   ],
   "source": [
    "for i, (input_, expected_output) in enumerate(test_cases):\n",
    "    print(f\"Running test case {i} with input '{input_}'...\")\n",
    "\n",
    "    try:\n",
    "        output = run(input_)\n",
    "\n",
    "    except Exception as exc:\n",
    "        print(f\"Runtime Error. {exc}\")\n",
    "\n",
    "    else:\n",
    "        if message := check(output, expected_output):\n",
    "            print(f\"Wrong Answer. Have: '{output}'. Want: '{expected_output}'.\")\n",
    "\n",
    "        else:\n",
    "            print(\"Correct!\")"
   ]
  },
  {
   "cell_type": "code",
   "execution_count": null,
   "id": "9784bf8a-8c01-439d-931d-274e3d7a3f7f",
   "metadata": {},
   "outputs": [],
   "source": []
  }
 ],
 "metadata": {
  "kernelspec": {
   "display_name": "PennyLane",
   "language": "python",
   "name": "pennylane"
  },
  "language_info": {
   "codemirror_mode": {
    "name": "ipython",
    "version": 3
   },
   "file_extension": ".py",
   "mimetype": "text/x-python",
   "name": "python",
   "nbconvert_exporter": "python",
   "pygments_lexer": "ipython3",
   "version": "3.9.15"
  }
 },
 "nbformat": 4,
 "nbformat_minor": 5
}
