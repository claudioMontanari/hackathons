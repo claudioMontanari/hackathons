{
 "cells": [
  {
   "cell_type": "code",
   "execution_count": null,
   "id": "8dd31dc2-9b89-4a00-990b-3af8c0be11a6",
   "metadata": {},
   "outputs": [],
   "source": [
    "import json\n",
    "import pennylane as qml\n",
    "import pennylane.numpy as np"
   ]
  },
  {
   "cell_type": "code",
   "execution_count": 18,
   "id": "7344d407-0a15-4b2d-9112-f781e87a4f56",
   "metadata": {},
   "outputs": [],
   "source": [
    "n_qubits = 9\n",
    "dev = qml.device(\"default.qubit\", wires=n_qubits)\n",
    "error_dict = {0: 'PauliX', 1: 'PauliY', 2: 'PauliZ'}\n",
    "\n",
    "def error(error_key, qubit):\n",
    "    \"\"\"Defines the error that is induced in the circuit.\n",
    "\n",
    "    Args:\n",
    "        error_key (int): An integer associated to the type of error (Pauli X, Y, or Z)\n",
    "        qubit (int): The qubit that the error occurs on.\n",
    "    \"\"\"\n",
    "    getattr(qml, error_dict[error_key])(qubit)\n",
    "\n",
    "@qml.qnode(dev)\n",
    "def shor(state, error_key, qubit):\n",
    "    \"\"\"A circuit defining Shor's code for error correction.\n",
    "\n",
    "    Args:\n",
    "        state (list(float)): The quantum state of the first qubit in the circuit.\n",
    "        error_key (int): An integer associated to the type of error (Pauli X, Y, or Z)\n",
    "        qubit (int): The qubit that the error occurs on.\n",
    "\n",
    "    Returns:\n",
    "        (list(float)): The expectation value of the Pauli Z operator on every qubit.\n",
    "    \"\"\"\n",
    "    qml.QubitStateVector(np.array(state), wires=0)\n",
    "    # Put your code here #\n",
    "\n",
    "    # Entangle phi and the support qubits\n",
    "    q_wires = [x for x in range(9)]\n",
    "    q0, q1, q2, q3, q4, q5, q6, q7, q8 = q_wires\n",
    "    \n",
    "    # qml.Hadamard(wires=[x])\n",
    "    # qml.CNOT(wires=[ctrl, trgt])\n",
    "    # qml.Toffoli(wires=[ctrl, ctrl, trgt])\n",
    "    qml.CNOT(wires=[q0, q3])\n",
    "    qml.CNOT(wires=[q0, q6])\n",
    "\n",
    "    qml.Hadamard(wires=[q0])\n",
    "    qml.CNOT(wires=[q0, q1])\n",
    "    qml.CNOT(wires=[q0, q2])\n",
    "\n",
    "    qml.Hadamard(wires=[q3])\n",
    "    qml.CNOT(wires=[q3, q4])\n",
    "    qml.CNOT(wires=[q3, q5])\n",
    "\n",
    "    qml.Hadamard(wires=[q6])\n",
    "    qml.CNOT(wires=[q6, q7])\n",
    "    qml.CNOT(wires=[q6, q8])\n",
    "\n",
    "    # Apply the error \n",
    "    error(error_key, qubit)\n",
    "\n",
    "    # Apply the syndrome analysis circuit\n",
    "    qml.CNOT(wires=[q0, q1])\n",
    "    qml.CNOT(wires=[q0, q2])\n",
    "    qml.Toffoli(wires=[q2, q1, q0])\n",
    "    qml.Hadamard(wires=[q0])\n",
    "\n",
    "    qml.CNOT(wires=[q3, q4])\n",
    "    qml.CNOT(wires=[q3, q5])\n",
    "    qml.Toffoli(wires=[q5, q4, q3])\n",
    "    qml.Hadamard(wires=[q3])\n",
    "    \n",
    "    qml.CNOT(wires=[q6, q7])\n",
    "    qml.CNOT(wires=[q6, q8])\n",
    "    qml.Toffoli(wires=[q8, q7, q6])\n",
    "    qml.Hadamard(wires=[q6])\n",
    "\n",
    "    qml.CNOT(wires=[q0, q3])\n",
    "    qml.CNOT(wires=[q0, q6])\n",
    "    qml.Toffoli(wires=[q6, q3, q0])\n",
    "\n",
    "    # Return exp of RZ on all qubits\n",
    "    return [qml.expval(qml.PauliZ(i)) for i in q_wires]\n"
   ]
  },
  {
   "cell_type": "code",
   "execution_count": 19,
   "id": "bdbf7d79-65eb-4cb4-be97-076ef0b4a47c",
   "metadata": {},
   "outputs": [],
   "source": [
    "# These functions are responsible for testing the solution.\n",
    "def run(test_case_input: str) -> str:\n",
    "    state, error_key, qubit = json.loads(test_case_input)\n",
    "    output = shor(state, error_key, qubit).tolist()\n",
    "\n",
    "    return str(output)\n",
    "\n",
    "def check(solution_output: str, expected_output: str) -> None:\n",
    "    solution_output = json.loads(solution_output)\n",
    "    expected_output = json.loads(expected_output)\n",
    "\n",
    "    assert np.allclose(solution_output, expected_output, rtol=1e-4)\n"
   ]
  },
  {
   "cell_type": "code",
   "execution_count": 20,
   "id": "8709ae58-ff41-4597-bde0-5f404891a98a",
   "metadata": {},
   "outputs": [],
   "source": [
    "test_cases = [['[[0, 1], 0, 3]', '[-1.0,  1.0,  1.0,  1.0, -1.0, -1.0,  1.0,  1.0,  1.0]']]"
   ]
  },
  {
   "cell_type": "code",
   "execution_count": 21,
   "id": "f6ffa4d4-f1e6-4c8b-8fe5-251c48b14cb2",
   "metadata": {},
   "outputs": [
    {
     "name": "stdout",
     "output_type": "stream",
     "text": [
      "Running test case 0 with input '[[0, 1], 0, 3]'...\n",
      "Correct!\n"
     ]
    }
   ],
   "source": [
    "for i, (input_, expected_output) in enumerate(test_cases):\n",
    "    print(f\"Running test case {i} with input '{input_}'...\")\n",
    "\n",
    "    try:\n",
    "        output = run(input_)\n",
    "\n",
    "    except Exception as exc:\n",
    "        print(f\"Runtime Error. {exc}\")\n",
    "\n",
    "    else:\n",
    "        if message := check(output, expected_output):\n",
    "            print(f\"Wrong Answer. Have: '{output}'. Want: '{expected_output}'.\")\n",
    "\n",
    "        else:\n",
    "            print(\"Correct!\")"
   ]
  },
  {
   "cell_type": "code",
   "execution_count": null,
   "id": "0d773ef8-0f14-4066-8549-31ac0997985e",
   "metadata": {},
   "outputs": [],
   "source": []
  }
 ],
 "metadata": {
  "kernelspec": {
   "display_name": "PennyLane",
   "language": "python",
   "name": "pennylane"
  },
  "language_info": {
   "codemirror_mode": {
    "name": "ipython",
    "version": 3
   },
   "file_extension": ".py",
   "mimetype": "text/x-python",
   "name": "python",
   "nbconvert_exporter": "python",
   "pygments_lexer": "ipython3",
   "version": "3.9.15"
  }
 },
 "nbformat": 4,
 "nbformat_minor": 5
}
