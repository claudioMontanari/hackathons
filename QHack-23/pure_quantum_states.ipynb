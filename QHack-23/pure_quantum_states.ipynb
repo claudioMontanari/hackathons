{
 "cells": [
  {
   "cell_type": "code",
   "execution_count": 1,
   "id": "5ec5e492-9deb-4ac4-99fd-0dcde12800b5",
   "metadata": {},
   "outputs": [],
   "source": [
    "import json\n",
    "import pennylane as qml\n",
    "import pennylane.numpy as np"
   ]
  },
  {
   "cell_type": "code",
   "execution_count": 6,
   "id": "89a3e1d3-fb2e-4135-9a4f-8b302d96eeab",
   "metadata": {},
   "outputs": [],
   "source": [
    "def is_product(state, subsystem, wires):\n",
    "    \"\"\"Determines if a pure quantum state can be written as a product state between \n",
    "    a subsystem of wires and their compliment.\n",
    "\n",
    "    Args:\n",
    "        state (numpy.array): The quantum state of interest.\n",
    "        subsystem (list(int)): The subsystem used to determine if the state is a product state.\n",
    "        wires (list(int)): The wire/qubit labels for the state. Use these for creating a QNode if you wish!\n",
    "\n",
    "    Returns:\n",
    "        (str): \"yes\" if the state is a product state or \"no\" if it isn't.\n",
    "    \"\"\"\n",
    "    result = False\n",
    "    dev = qml.device(\"default.qubit\", wires=len(wires))\n",
    "    \n",
    "    @qml.qnode(dev)\n",
    "    def circuit(sub):\n",
    "        qml.QubitStateVector(state, wires=wires)\n",
    "        return qml.density_matrix(sub)\n",
    "    d_matrix_a = circuit(sub=subsystem)\n",
    "    d_matrix_b = circuit(sub=[x for x in wires if x not in subsystem])\n",
    "    p_matrix = qml.math.dot(d_matrix_a, d_matrix_b)\n",
    "    result = qml.math.allequal(state, p_matrix.flatten())\n",
    "\n",
    "    return \"yes\" if result else \"no\"\n"
   ]
  },
  {
   "cell_type": "code",
   "execution_count": 7,
   "id": "bc7f1709-f42f-498f-b59c-c79e74f057a2",
   "metadata": {},
   "outputs": [],
   "source": [
    "# These functions are responsible for testing the solution.\n",
    "def run(test_case_input: str) -> str:\n",
    "    ins = json.loads(test_case_input)\n",
    "    state, subsystem, wires = ins\n",
    "    state = np.array(state)\n",
    "    output = is_product(state, subsystem, wires)\n",
    "    return output\n",
    "\n",
    "def check(solution_output: str, expected_output: str) -> None:\n",
    "    assert solution_output == expected_output\n"
   ]
  },
  {
   "cell_type": "code",
   "execution_count": 8,
   "id": "099b8239-a759-4a2c-a09c-1ce576b18614",
   "metadata": {},
   "outputs": [],
   "source": [
    "test_cases = [['[[0.707107, 0, 0, 0.707107], [0], [0, 1]]', 'no'], ['[[1, 0, 0, 0], [0], [0, 1]]', 'yes']]"
   ]
  },
  {
   "cell_type": "code",
   "execution_count": 9,
   "id": "6ff711e4-24f4-4806-85cd-a84cb49ef884",
   "metadata": {},
   "outputs": [
    {
     "name": "stdout",
     "output_type": "stream",
     "text": [
      "Running test case 0 with input '[[0.707107, 0, 0, 0.707107], [0], [0, 1]]'...\n",
      "Correct!\n",
      "Running test case 1 with input '[[1, 0, 0, 0], [0], [0, 1]]'...\n",
      "Correct!\n"
     ]
    }
   ],
   "source": [
    "for i, (input_, expected_output) in enumerate(test_cases):\n",
    "    print(f\"Running test case {i} with input '{input_}'...\")\n",
    "\n",
    "    try:\n",
    "        output = run(input_)\n",
    "\n",
    "    except Exception as exc:\n",
    "        print(f\"Runtime Error. {exc}\")\n",
    "\n",
    "    else:\n",
    "        if message := check(output, expected_output):\n",
    "            print(f\"Wrong Answer. Have: '{output}'. Want: '{expected_output}'.\")\n",
    "\n",
    "        else:\n",
    "            print(\"Correct!\")"
   ]
  },
  {
   "cell_type": "code",
   "execution_count": null,
   "id": "92c44b5e-07bb-4ae4-b1c3-f72f9c82b62a",
   "metadata": {},
   "outputs": [],
   "source": []
  }
 ],
 "metadata": {
  "kernelspec": {
   "display_name": "PennyLane",
   "language": "python",
   "name": "pennylane"
  },
  "language_info": {
   "codemirror_mode": {
    "name": "ipython",
    "version": 3
   },
   "file_extension": ".py",
   "mimetype": "text/x-python",
   "name": "python",
   "nbconvert_exporter": "python",
   "pygments_lexer": "ipython3",
   "version": "3.9.15"
  }
 },
 "nbformat": 4,
 "nbformat_minor": 5
}
