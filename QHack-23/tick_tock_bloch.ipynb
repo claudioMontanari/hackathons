{
 "cells": [
  {
   "cell_type": "code",
   "execution_count": 1,
   "id": "544fb782-61fb-4375-b90b-3b40999418d4",
   "metadata": {},
   "outputs": [],
   "source": [
    "import json\n",
    "import pennylane as qml\n",
    "import pennylane.numpy as np"
   ]
  },
  {
   "cell_type": "code",
   "execution_count": 2,
   "id": "9d43da08-f3b1-4c31-9654-94c5564f13f2",
   "metadata": {},
   "outputs": [],
   "source": [
    "dev = qml.device(\"default.qubit\", wires=[\"hour\", \"minute\"])\n"
   ]
  },
  {
   "cell_type": "code",
   "execution_count": 10,
   "id": "e1ca5a28-9941-4e15-920f-360ca0c9a750",
   "metadata": {},
   "outputs": [],
   "source": [
    "@qml.qnode(dev)\n",
    "def time(hour, minute):\n",
    "    \"\"\"Generates the quantum state associated with the time passed as argument.\n",
    "\n",
    "    Args:\n",
    "        hour (int): Hour associated with the requested time\n",
    "        minute (int): Minutes associated with the requested time\n",
    "\n",
    "    Returns:\n",
    "        (numpy.tensor): Probabilities associated with the state created.\n",
    "    \"\"\"\n",
    "    # Put your code here #\n",
    "    hr_phi = np.pi * hour / 6.\n",
    "    min_phi = np.pi * minute / 30.\n",
    "    qml.RY(phi=hr_phi, wires=[\"hour\"])\n",
    "    qml.RY(phi=min_phi, wires=[\"minute\"])\n",
    "    return qml.probs(wires=[\"hour\", \"minute\"])\n"
   ]
  },
  {
   "cell_type": "code",
   "execution_count": 9,
   "id": "bfc68f0a-66b3-4903-be0a-a01ac0726c2f",
   "metadata": {},
   "outputs": [
    {
     "data": {
      "text/plain": [
       "0.5235987755982988"
      ]
     },
     "execution_count": 9,
     "metadata": {},
     "output_type": "execute_result"
    }
   ],
   "source": [
    "np.pi * 1 / 6. "
   ]
  },
  {
   "cell_type": "code",
   "execution_count": 11,
   "id": "6e009555-8af7-4eeb-9626-36559f357ee1",
   "metadata": {},
   "outputs": [],
   "source": [
    "# These functions are responsible for testing the solution.\n",
    "def run(test_case_input: str) -> str:\n",
    "    hour, minute = json.loads(test_case_input)\n",
    "    state = [float(x) for x in time(hour, minute)]\n",
    "    return str(state)\n",
    "\n",
    "def check(solution_output, expected_output: str) -> None:\n",
    "\n",
    "    solution_output = json.loads(solution_output)\n",
    "    expected_output = json.loads(expected_output)\n",
    "\n",
    "    assert np.allclose(\n",
    "        solution_output, expected_output, atol=0.1\n",
    "    ), \"The solution does not seem to be correct.\"\n"
   ]
  },
  {
   "cell_type": "code",
   "execution_count": 12,
   "id": "16d9cd7b-5208-4137-a1c1-3b1b60d280cb",
   "metadata": {},
   "outputs": [],
   "source": [
    "test_cases = [['[12, 0]', '[1.0, 0.0, 0.0, 0.0]'], ['[1, 30]', '[0.0, 0.85355339, 0.0, 1.46446609e-01]']]"
   ]
  },
  {
   "cell_type": "code",
   "execution_count": 13,
   "id": "61c0c110-3c9e-4ec8-8825-72acecb31098",
   "metadata": {},
   "outputs": [
    {
     "name": "stdout",
     "output_type": "stream",
     "text": [
      "Running test case 0 with input '[12, 0]'...\n",
      "Correct!\n",
      "Running test case 1 with input '[1, 30]'...\n",
      "Correct!\n"
     ]
    }
   ],
   "source": [
    "for i, (input_, expected_output) in enumerate(test_cases):\n",
    "    print(f\"Running test case {i} with input '{input_}'...\")\n",
    "\n",
    "    try:\n",
    "        output = run(input_)\n",
    "\n",
    "    except Exception as exc:\n",
    "        print(f\"Runtime Error. {exc}\")\n",
    "\n",
    "    else:\n",
    "        if message := check(output, expected_output):\n",
    "            print(f\"Wrong Answer. Have: '{output}'. Want: '{expected_output}'.\")\n",
    "\n",
    "        else:\n",
    "            print(\"Correct!\")"
   ]
  },
  {
   "cell_type": "code",
   "execution_count": null,
   "id": "5f5f1eee-e029-44b5-8e92-a382bc0d2153",
   "metadata": {},
   "outputs": [],
   "source": []
  }
 ],
 "metadata": {
  "kernelspec": {
   "display_name": "PennyLane",
   "language": "python",
   "name": "pennylane"
  },
  "language_info": {
   "codemirror_mode": {
    "name": "ipython",
    "version": 3
   },
   "file_extension": ".py",
   "mimetype": "text/x-python",
   "name": "python",
   "nbconvert_exporter": "python",
   "pygments_lexer": "ipython3",
   "version": "3.9.15"
  }
 },
 "nbformat": 4,
 "nbformat_minor": 5
}
